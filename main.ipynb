{
 "cells": [
  {
   "attachments": {},
   "cell_type": "markdown",
   "metadata": {},
   "source": [
    "Import libraries"
   ]
  },
  {
   "cell_type": "code",
   "execution_count": 122,
   "metadata": {},
   "outputs": [],
   "source": [
    "import cv2\n",
    "import time"
   ]
  },
  {
   "attachments": {},
   "cell_type": "markdown",
   "metadata": {},
   "source": [
    "Set up capture object"
   ]
  },
  {
   "cell_type": "code",
   "execution_count": 123,
   "metadata": {},
   "outputs": [],
   "source": [
    "cap = cv2.VideoCapture(\"/Users/joepye/Downloads/aspen cv test.mp4\")"
   ]
  },
  {
   "cell_type": "code",
   "execution_count": 124,
   "metadata": {},
   "outputs": [],
   "source": [
    "detector = cv2.createBackgroundSubtractorMOG2(history=200)"
   ]
  },
  {
   "attachments": {},
   "cell_type": "markdown",
   "metadata": {},
   "source": [
    "Loop through frames"
   ]
  },
  {
   "cell_type": "code",
   "execution_count": 125,
   "metadata": {},
   "outputs": [
    {
     "name": "stdout",
     "output_type": "stream",
     "text": [
      "key 27\n"
     ]
    }
   ],
   "source": [
    "cv2.startWindowThread()\n",
    "\n",
    "best_contour = ()\n",
    "\n",
    "prev_frame_time = time.time()\n",
    "\n",
    "font = cv2.FONT_HERSHEY_SIMPLEX\n",
    "\n",
    "while True:\n",
    "    \n",
    "    ret, frame = cap.read()\n",
    "    \n",
    "    if ret:\n",
    "        \n",
    "        new_frame_time = time.time()\n",
    "        fps = 1/(new_frame_time-prev_frame_time) \n",
    "        prev_frame_time = new_frame_time\n",
    "        \n",
    "        mask = detector.apply(frame)\n",
    "        \n",
    "        cv2.putText(frame, str(int(fps)) + 'fps', (7, 70), font, 3, (100, 255, 0), 3, cv2.LINE_AA)\n",
    "        \n",
    "        contours, _ = cv2.findContours(mask, mode=cv2.RETR_TREE, method=cv2.CHAIN_APPROX_SIMPLE)\n",
    "        \n",
    "        mask = cv2.merge([mask, mask, mask])\n",
    "        \n",
    "        biggest_area = 500\n",
    "        \n",
    "        for cnt in contours:\n",
    "            \n",
    "            area = cv2.contourArea(cnt)\n",
    "            \n",
    "            if area > biggest_area:\n",
    "            \n",
    "                biggest_area = area\n",
    "                \n",
    "                best_contour = cnt\n",
    "        \n",
    "        if len(best_contour) > 0:\n",
    "            x,y,w,h = cv2.boundingRect(best_contour)\n",
    "            cv2.rectangle(frame,(x,y),(x+w,y+h),(0,255,0),2)\n",
    "        \n",
    "        cv2.imshow(\"Frame\", frame)\n",
    "        cv2.imshow(\"Mask\", mask)\n",
    "        key = cv2.waitKey(1)\n",
    "        \n",
    "        if key == 27:\n",
    "            print(\"key 27\")\n",
    "            break\n",
    "    \n",
    "    else:\n",
    "        break\n",
    "\n",
    "\n",
    "cv2.destroyAllWindows()\n",
    "\n",
    "cv2.waitKey(1)\n",
    "\n",
    "cap.release()"
   ]
  }
 ],
 "metadata": {
  "kernelspec": {
   "display_name": ".venv",
   "language": "python",
   "name": "python3"
  },
  "language_info": {
   "codemirror_mode": {
    "name": "ipython",
    "version": 3
   },
   "file_extension": ".py",
   "mimetype": "text/x-python",
   "name": "python",
   "nbconvert_exporter": "python",
   "pygments_lexer": "ipython3",
   "version": "3.9.7"
  },
  "orig_nbformat": 4
 },
 "nbformat": 4,
 "nbformat_minor": 2
}
