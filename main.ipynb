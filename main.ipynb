{
 "cells": [
  {
   "attachments": {},
   "cell_type": "markdown",
   "metadata": {},
   "source": [
    "Import libraries"
   ]
  },
  {
   "cell_type": "code",
   "execution_count": 33,
   "metadata": {},
   "outputs": [],
   "source": [
    "import cv2"
   ]
  },
  {
   "attachments": {},
   "cell_type": "markdown",
   "metadata": {},
   "source": [
    "Set up capture object"
   ]
  },
  {
   "cell_type": "code",
   "execution_count": 34,
   "metadata": {},
   "outputs": [],
   "source": [
    "cap = cv2.VideoCapture(\"/Users/joepye/Downloads/opencv_test_3.mp4\")"
   ]
  },
  {
   "cell_type": "code",
   "execution_count": 35,
   "metadata": {},
   "outputs": [],
   "source": [
    "#detector = cv2.createBackgroundSubtractorMOG2(history=200)\n",
    "detector = cv2.bgsegm.createBackgroundSubtractorMOG()"
   ]
  },
  {
   "attachments": {},
   "cell_type": "markdown",
   "metadata": {},
   "source": [
    "Loop through frames"
   ]
  },
  {
   "cell_type": "code",
   "execution_count": 36,
   "metadata": {},
   "outputs": [
    {
     "ename": "error",
     "evalue": "OpenCV(4.9.0) :-1: error: (-5:Bad argument) in function 'blur'\n> Overload resolution failed:\n>  - blur() missing required argument 'ksize' (pos 2)\n>  - blur() missing required argument 'ksize' (pos 2)\n",
     "output_type": "error",
     "traceback": [
      "\u001b[0;31m---------------------------------------------------------------------------\u001b[0m",
      "\u001b[0;31merror\u001b[0m                                     Traceback (most recent call last)",
      "Cell \u001b[0;32mIn[36], line 19\u001b[0m\n\u001b[1;32m     15\u001b[0m frame \u001b[39m=\u001b[39m cv2\u001b[39m.\u001b[39mmerge([b, g, r])\n\u001b[1;32m     17\u001b[0m hsv \u001b[39m=\u001b[39m cv2\u001b[39m.\u001b[39mcvtColor(frame, cv2\u001b[39m.\u001b[39mCOLOR_BGR2HSV)\n\u001b[0;32m---> 19\u001b[0m hsv \u001b[39m=\u001b[39m cv2\u001b[39m.\u001b[39;49mblur(hsv)\n\u001b[1;32m     21\u001b[0m mask \u001b[39m=\u001b[39m detector\u001b[39m.\u001b[39mapply(hsv)\n\u001b[1;32m     23\u001b[0m contours, _ \u001b[39m=\u001b[39m cv2\u001b[39m.\u001b[39mfindContours(mask, mode\u001b[39m=\u001b[39mcv2\u001b[39m.\u001b[39mRETR_TREE, method\u001b[39m=\u001b[39mcv2\u001b[39m.\u001b[39mCHAIN_APPROX_SIMPLE)\n",
      "\u001b[0;31merror\u001b[0m: OpenCV(4.9.0) :-1: error: (-5:Bad argument) in function 'blur'\n> Overload resolution failed:\n>  - blur() missing required argument 'ksize' (pos 2)\n>  - blur() missing required argument 'ksize' (pos 2)\n"
     ]
    }
   ],
   "source": [
    "cv2.startWindowThread()\n",
    "\n",
    "while True:\n",
    "    \n",
    "    ret, frame = cap.read()\n",
    "    \n",
    "    if ret:\n",
    "        \n",
    "        b, g, r = cv2.split(frame)\n",
    "        \n",
    "        b = cv2.equalizeHist(b)\n",
    "        g = cv2.equalizeHist(g)\n",
    "        r = cv2.equalizeHist(r)\n",
    "        \n",
    "        frame = cv2.merge([b, g, r])\n",
    "        \n",
    "        hsv = cv2.cvtColor(frame, cv2.COLOR_BGR2HSV)\n",
    "        \n",
    "        hsv = cv2.blur(hsv, ksize=(10, 10))\n",
    "        \n",
    "        mask = detector.apply(hsv)\n",
    "        \n",
    "        contours, _ = cv2.findContours(mask, mode=cv2.RETR_TREE, method=cv2.CHAIN_APPROX_SIMPLE)\n",
    "        \n",
    "        mask = cv2.merge([mask, mask, mask])\n",
    "        \n",
    "        for cnt in contours:\n",
    "            \n",
    "            area = cv2.contourArea(cnt)\n",
    "            \n",
    "            if area > 500:\n",
    "            \n",
    "                cv2.drawContours(mask, [cnt], -1, (0, 255, 0), 2)\n",
    "        \n",
    "        cv2.imshow(\"Frame\", frame)\n",
    "        cv2.imshow(\"Mask\", mask)\n",
    "        cv2.imshow(\"HSV\", hsv)\n",
    "        key = cv2.waitKey(30)\n",
    "        \n",
    "        if key == 27:\n",
    "            print(\"key 27\")\n",
    "            break\n",
    "    \n",
    "    else:\n",
    "        break\n",
    "\n",
    "\n",
    "cv2.destroyAllWindows()\n",
    "\n",
    "cv2.waitKey(1)\n",
    "\n",
    "cap.release()"
   ]
  }
 ],
 "metadata": {
  "kernelspec": {
   "display_name": ".venv",
   "language": "python",
   "name": "python3"
  },
  "language_info": {
   "codemirror_mode": {
    "name": "ipython",
    "version": 3
   },
   "file_extension": ".py",
   "mimetype": "text/x-python",
   "name": "python",
   "nbconvert_exporter": "python",
   "pygments_lexer": "ipython3",
   "version": "3.9.7"
  },
  "orig_nbformat": 4
 },
 "nbformat": 4,
 "nbformat_minor": 2
}
